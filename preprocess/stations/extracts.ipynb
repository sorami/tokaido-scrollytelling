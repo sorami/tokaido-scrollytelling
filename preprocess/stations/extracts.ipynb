{
 "cells": [
  {
   "cell_type": "markdown",
   "id": "92e0eac4",
   "metadata": {},
   "source": [
    "# 53 Stations of the Tōkaidō - Wikipedia Extracts\n",
    "\n",
    "\n",
    "source:\n",
    "\n",
    "- [東海道五十三次 - Wikipedia](https://ja.wikipedia.org/wiki/%E6%9D%B1%E6%B5%B7%E9%81%93%E4%BA%94%E5%8D%81%E4%B8%89%E6%AC%A1)\n",
    "- [東海道五十三次 (浮世絵) - Wikipedia](https://ja.wikipedia.org/wiki/%E6%9D%B1%E6%B5%B7%E9%81%93%E4%BA%94%E5%8D%81%E4%B8%89%E6%AC%A1_(%E6%B5%AE%E4%B8%96%E7%B5%B5))"
   ]
  },
  {
   "cell_type": "code",
   "execution_count": 1,
   "id": "37b6e368",
   "metadata": {},
   "outputs": [],
   "source": [
    "import json\n",
    "from time import sleep\n",
    "\n",
    "import pandas as pd\n",
    "import requests\n",
    "from tqdm.notebook import tqdm"
   ]
  },
  {
   "cell_type": "code",
   "execution_count": 2,
   "id": "768637ef",
   "metadata": {
    "scrolled": true
   },
   "outputs": [
    {
     "data": {
      "text/html": [
       "<div>\n",
       "<style scoped>\n",
       "    .dataframe tbody tr th:only-of-type {\n",
       "        vertical-align: middle;\n",
       "    }\n",
       "\n",
       "    .dataframe tbody tr th {\n",
       "        vertical-align: top;\n",
       "    }\n",
       "\n",
       "    .dataframe thead th {\n",
       "        text-align: right;\n",
       "    }\n",
       "</style>\n",
       "<table border=\"1\" class=\"dataframe\">\n",
       "  <thead>\n",
       "    <tr style=\"text-align: right;\">\n",
       "      <th></th>\n",
       "      <th>0</th>\n",
       "      <th>1</th>\n",
       "      <th>2</th>\n",
       "      <th>3</th>\n",
       "      <th>4</th>\n",
       "    </tr>\n",
       "  </thead>\n",
       "  <tbody>\n",
       "    <tr>\n",
       "      <th>no</th>\n",
       "      <td>0</td>\n",
       "      <td>1</td>\n",
       "      <td>2</td>\n",
       "      <td>3</td>\n",
       "      <td>4</td>\n",
       "    </tr>\n",
       "    <tr>\n",
       "      <th>name</th>\n",
       "      <td>日本橋</td>\n",
       "      <td>品川宿</td>\n",
       "      <td>川崎宿</td>\n",
       "      <td>神奈川宿</td>\n",
       "      <td>保土ヶ谷宿</td>\n",
       "    </tr>\n",
       "    <tr>\n",
       "      <th>name_kana</th>\n",
       "      <td>にほんばし</td>\n",
       "      <td>しながわ</td>\n",
       "      <td>かわさき</td>\n",
       "      <td>かながわ</td>\n",
       "      <td>ほどがや</td>\n",
       "    </tr>\n",
       "    <tr>\n",
       "      <th>name_roman</th>\n",
       "      <td>Nihonbashi</td>\n",
       "      <td>Shinagawa</td>\n",
       "      <td>Kawasaki</td>\n",
       "      <td>Kanagawa</td>\n",
       "      <td>Hodogaya</td>\n",
       "    </tr>\n",
       "    <tr>\n",
       "      <th>province</th>\n",
       "      <td>武蔵国</td>\n",
       "      <td>武蔵国</td>\n",
       "      <td>武蔵国</td>\n",
       "      <td>武蔵国</td>\n",
       "      <td>武蔵国</td>\n",
       "    </tr>\n",
       "    <tr>\n",
       "      <th>img_caption</th>\n",
       "      <td>朝之景 / 行列振出</td>\n",
       "      <td>日之出</td>\n",
       "      <td>六郷渡舟</td>\n",
       "      <td>台之景</td>\n",
       "      <td>新町橋</td>\n",
       "    </tr>\n",
       "    <tr>\n",
       "      <th>latitude</th>\n",
       "      <td>35.683611</td>\n",
       "      <td>35.621944</td>\n",
       "      <td>35.535556</td>\n",
       "      <td>35.472778</td>\n",
       "      <td>35.444028</td>\n",
       "    </tr>\n",
       "    <tr>\n",
       "      <th>longitude</th>\n",
       "      <td>139.774444</td>\n",
       "      <td>139.739167</td>\n",
       "      <td>139.707778</td>\n",
       "      <td>139.632278</td>\n",
       "      <td>139.595556</td>\n",
       "    </tr>\n",
       "    <tr>\n",
       "      <th>wikipedia_ja</th>\n",
       "      <td>https://ja.wikipedia.org/wiki/%E6%97%A5%E6%9C%...</td>\n",
       "      <td>https://ja.wikipedia.org/wiki/%E5%93%81%E5%B7%...</td>\n",
       "      <td>https://ja.wikipedia.org/wiki/%E5%B7%9D%E5%B4%...</td>\n",
       "      <td>https://ja.wikipedia.org/wiki/%E7%A5%9E%E5%A5%...</td>\n",
       "      <td>https://ja.wikipedia.org/wiki/%E4%BF%9D%E5%9C%...</td>\n",
       "    </tr>\n",
       "    <tr>\n",
       "      <th>wikipedia_en</th>\n",
       "      <td>https://en.wikipedia.org/wiki/Nihonbashi</td>\n",
       "      <td>https://en.wikipedia.org/wiki/Shinagawa-juku</td>\n",
       "      <td>https://en.wikipedia.org/wiki/Kawasaki-juku</td>\n",
       "      <td>https://en.wikipedia.org/wiki/Kanagawa-juku</td>\n",
       "      <td>https://en.wikipedia.org/wiki/Hodogaya-juku</td>\n",
       "    </tr>\n",
       "  </tbody>\n",
       "</table>\n",
       "</div>"
      ],
      "text/plain": [
       "                                                              0  \\\n",
       "no                                                            0   \n",
       "name                                                        日本橋   \n",
       "name_kana                                                 にほんばし   \n",
       "name_roman                                           Nihonbashi   \n",
       "province                                                    武蔵国   \n",
       "img_caption                                          朝之景 / 行列振出   \n",
       "latitude                                              35.683611   \n",
       "longitude                                            139.774444   \n",
       "wikipedia_ja  https://ja.wikipedia.org/wiki/%E6%97%A5%E6%9C%...   \n",
       "wikipedia_en           https://en.wikipedia.org/wiki/Nihonbashi   \n",
       "\n",
       "                                                              1  \\\n",
       "no                                                            1   \n",
       "name                                                        品川宿   \n",
       "name_kana                                                  しながわ   \n",
       "name_roman                                            Shinagawa   \n",
       "province                                                    武蔵国   \n",
       "img_caption                                                 日之出   \n",
       "latitude                                              35.621944   \n",
       "longitude                                            139.739167   \n",
       "wikipedia_ja  https://ja.wikipedia.org/wiki/%E5%93%81%E5%B7%...   \n",
       "wikipedia_en       https://en.wikipedia.org/wiki/Shinagawa-juku   \n",
       "\n",
       "                                                              2  \\\n",
       "no                                                            2   \n",
       "name                                                        川崎宿   \n",
       "name_kana                                                  かわさき   \n",
       "name_roman                                             Kawasaki   \n",
       "province                                                    武蔵国   \n",
       "img_caption                                                六郷渡舟   \n",
       "latitude                                              35.535556   \n",
       "longitude                                            139.707778   \n",
       "wikipedia_ja  https://ja.wikipedia.org/wiki/%E5%B7%9D%E5%B4%...   \n",
       "wikipedia_en        https://en.wikipedia.org/wiki/Kawasaki-juku   \n",
       "\n",
       "                                                              3  \\\n",
       "no                                                            3   \n",
       "name                                                       神奈川宿   \n",
       "name_kana                                                  かながわ   \n",
       "name_roman                                             Kanagawa   \n",
       "province                                                    武蔵国   \n",
       "img_caption                                                 台之景   \n",
       "latitude                                              35.472778   \n",
       "longitude                                            139.632278   \n",
       "wikipedia_ja  https://ja.wikipedia.org/wiki/%E7%A5%9E%E5%A5%...   \n",
       "wikipedia_en        https://en.wikipedia.org/wiki/Kanagawa-juku   \n",
       "\n",
       "                                                              4  \n",
       "no                                                            4  \n",
       "name                                                      保土ヶ谷宿  \n",
       "name_kana                                                  ほどがや  \n",
       "name_roman                                             Hodogaya  \n",
       "province                                                    武蔵国  \n",
       "img_caption                                                 新町橋  \n",
       "latitude                                              35.444028  \n",
       "longitude                                            139.595556  \n",
       "wikipedia_ja  https://ja.wikipedia.org/wiki/%E4%BF%9D%E5%9C%...  \n",
       "wikipedia_en        https://en.wikipedia.org/wiki/Hodogaya-juku  "
      ]
     },
     "execution_count": 2,
     "metadata": {},
     "output_type": "execute_result"
    }
   ],
   "source": [
    "df = pd.read_csv(\"stations.csv\")\n",
    "df[\"no\"] = df[\"no\"].astype(\"string\")\n",
    "\n",
    "df.head().T"
   ]
  },
  {
   "cell_type": "code",
   "execution_count": 3,
   "id": "de55cabe",
   "metadata": {},
   "outputs": [],
   "source": [
    "def get_wikipedia_ja_extract(title):\n",
    "    url = \"https://ja.wikipedia.org/w/api.php\"\\\n",
    "                \"?format=json&action=query&prop=extracts&exintro&explaintext&redirects=1\"\\\n",
    "                f\"&titles={title}\"\n",
    "    \n",
    "    res = requests.get(url)\n",
    "    res.raise_for_status()\n",
    "    \n",
    "    pages = res.json()[\"query\"][\"pages\"]\n",
    "    assert len(pages) == 1\n",
    "    extract = list(pages.values())[0][\"extract\"]\n",
    "\n",
    "    return extract"
   ]
  },
  {
   "cell_type": "code",
   "execution_count": 4,
   "id": "21c48559",
   "metadata": {},
   "outputs": [],
   "source": [
    "def get_wikipedia_en_extract(title):\n",
    "    url = \"https://en.wikipedia.org/w/api.php\"\\\n",
    "                \"?format=json&action=query&prop=extracts&exintro&explaintext&redirects=1\"\\\n",
    "                f\"&titles={title}\"\n",
    "    \n",
    "    res = requests.get(url)\n",
    "    res.raise_for_status()\n",
    "    \n",
    "    pages = res.json()[\"query\"][\"pages\"]\n",
    "    assert len(pages) == 1\n",
    "    extract = list(pages.values())[0][\"extract\"]\n",
    "\n",
    "    return extract"
   ]
  },
  {
   "cell_type": "code",
   "execution_count": 5,
   "id": "c7704749",
   "metadata": {},
   "outputs": [
    {
     "data": {
      "application/vnd.jupyter.widget-view+json": {
       "model_id": "593e0f13357e48fea7cfabba470fe1bc",
       "version_major": 2,
       "version_minor": 0
      },
      "text/plain": [
       "  0%|          | 0/55 [00:00<?, ?it/s]"
      ]
     },
     "metadata": {},
     "output_type": "display_data"
    },
    {
     "data": {
      "text/plain": [
       "55"
      ]
     },
     "execution_count": 5,
     "metadata": {},
     "output_type": "execute_result"
    }
   ],
   "source": [
    "extracts_dict = {}\n",
    "\n",
    "for row in tqdm(df.itertuples(index=False), total=df.shape[0]):\n",
    "    title_ja = row.wikipedia_ja.replace(\"https://ja.wikipedia.org/wiki/\", \"\")\n",
    "    extract_ja = get_wikipedia_ja_extract(title_ja)\n",
    "    \n",
    "    title_en = row.wikipedia_en.replace(\"https://en.wikipedia.org/wiki/\", \"\")\n",
    "    extract_en = get_wikipedia_en_extract(title_en)\n",
    "    \n",
    "    extracts_dict[row.no] = {\n",
    "        \"ja\": extract_ja,\n",
    "        \"en\": extract_en\n",
    "    }\n",
    "\n",
    "    sleep(1)\n",
    "    \n",
    "len(extracts_dict)"
   ]
  },
  {
   "cell_type": "code",
   "execution_count": 6,
   "id": "54b35da7",
   "metadata": {},
   "outputs": [
    {
     "data": {
      "text/plain": [
       "{'ja': '日本橋（にほんばし）は、もともとは1603年（慶長8年）に江戸で最初に町割りが行われた場所にあった川に架けられた木造の橋で、その後何代にもわたり掛け替えられ、現在のものは1911年に完成したもので、東京都中央区の日本橋川に架かり、石造りの2連アーチ橋となっている。',\n",
       " 'en': 'Nihonbashi (日本橋) is a business district of Chūō, Tokyo, Japan which grew up around the bridge of the same name which has linked two sides of the Nihonbashi River at this site since the 17th century.  The first wooden bridge was completed in 1603. The current bridge,  designed by Tsumaki Yorinaka and constructed of stone on a steel frame, dates from 1911.  The district covers a large area to the north and east of the bridge, reaching Akihabara to the north and the Sumida River to the east. Ōtemachi is to the west and Yaesu and Kyobashi to the south.\\nNihonbashi, together with Kyobashi and Kanda, is the core of Shitamachi, the original downtown center of Edo-Tokyo, before the rise of newer secondary centers such as Shinjuku and Shibuya.'}"
      ]
     },
     "execution_count": 6,
     "metadata": {},
     "output_type": "execute_result"
    }
   ],
   "source": [
    "extracts_dict[\"0\"]"
   ]
  },
  {
   "cell_type": "code",
   "execution_count": 7,
   "id": "4c9e28f0",
   "metadata": {},
   "outputs": [],
   "source": [
    "with open(\"./extracts.json\", \"w\") as fp:\n",
    "    json.dump(extracts_dict, fp, ensure_ascii=False, indent=2)"
   ]
  },
  {
   "cell_type": "code",
   "execution_count": 8,
   "id": "161da188",
   "metadata": {
    "scrolled": true
   },
   "outputs": [
    {
     "name": "stdout",
     "output_type": "stream",
     "text": [
      "{\r\n",
      "  \"0\": {\r\n",
      "    \"ja\": \"日本橋（にほんばし）は、もともとは1603年（慶長8年）に江戸で最初に町割りが行われた場所にあった川に架けられた木造の橋で、その後何代にもわたり掛け替えられ、現在のものは1911年に完成したもので、東京都中央区の日本橋川に架かり、石造りの2連アーチ橋となっている。\",\r\n",
      "    \"en\": \"Nihonbashi (日本橋) is a business district of Chūō, Tokyo, Japan which grew up around the bridge of the same name which has linked two sides of the Nihonbashi River at this site since the 17th century.  The first wooden bridge was completed in 1603. The current bridge,  designed by Tsumaki Yorinaka and constructed of stone on a steel frame, dates from 1911.  The district covers a large area to the north and east of the bridge, reaching Akihabara to the north and the Sumida River to the east. Ōtemachi is to the west and Yaesu and Kyobashi to the south.\\nNihonbashi, together with Kyobashi and Kanda, is the core of Shitamachi, the original downtown center of Edo-Tokyo, before the rise of newer secondary centers such as Shinjuku and Shibuya.\"\r\n",
      "  },\r\n",
      "  \"1\": {\r\n",
      "    \"ja\": \"品川宿（しながわしゅく、しながわじゅく）は、東海道五十三次の宿場の一つ。東海道の第一宿であり、中山道の板橋宿、甲州街道の内藤新宿、日光街道・奥州街道の千住宿と並んで江戸四宿と呼ばれた。\",\r\n",
      "    \"en\": \"Shinagawa-shuku (品川宿, Shinagawa-shuku) was the one of the fifty-three stations of the Tōkaidō. It is located in Shinagawa, Tokyo, Japan. Along with Itabashi-shuku (Nakasendō), Naitō Shinjuku (Kōshū Kaidō) and Senju-shuku (Nikkō Kaidō and Ōshū Kaidō), it was one of the Four Stations of Edo (江戸四宿 Edo Shishuku). It was located in the present-day Shinagawa Port area near Shinagawa Station.\"\r\n",
      "  },\r\n",
      "  \"2\": {\r\n"
     ]
    }
   ],
   "source": [
    "!head ./extracts.json"
   ]
  }
 ],
 "metadata": {
  "kernelspec": {
   "display_name": "Python 3 (ipykernel)",
   "language": "python",
   "name": "python3"
  },
  "language_info": {
   "codemirror_mode": {
    "name": "ipython",
    "version": 3
   },
   "file_extension": ".py",
   "mimetype": "text/x-python",
   "name": "python",
   "nbconvert_exporter": "python",
   "pygments_lexer": "ipython3",
   "version": "3.9.13"
  }
 },
 "nbformat": 4,
 "nbformat_minor": 5
}
